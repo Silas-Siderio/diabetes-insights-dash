{
 "cells": [
  {
   "cell_type": "markdown",
   "id": "3e82b251",
   "metadata": {},
   "source": [
    "# 📊 Diabetes Dashboard no Google Colab\n",
    "Execute cada célula abaixo para visualizar o dashboard interativo."
   ]
  },
  {
   "cell_type": "code",
   "execution_count": null,
   "id": "19ff942b",
   "metadata": {},
   "outputs": [],
   "source": [
    "# Instalar dependências\n",
    "!pip install dash pandas pyngrok --quiet\n"
   ]
  },
  {
   "cell_type": "code",
   "execution_count": null,
   "id": "2474a5a4",
   "metadata": {},
   "outputs": [],
   "source": [
    "# Importações\n",
    "import pandas as pd\n",
    "from dash import Dash, html, dcc\n",
    "from dash.dependencies import Input, Output\n",
    "from pyngrok import ngrok\n"
   ]
  },
  {
   "cell_type": "code",
   "execution_count": null,
   "id": "68b67dd9",
   "metadata": {},
   "outputs": [],
   "source": [
    "# Carregar o dataset\n",
    "df = pd.read_csv(\"https://raw.githubusercontent.com/Silas-Siderio/diabetes-insights-dash/main/diabetes_dataset.csv\")\n"
   ]
  },
  {
   "cell_type": "code",
   "execution_count": null,
   "id": "ed080d27",
   "metadata": {},
   "outputs": [],
   "source": [
    "# Criar app Dash\n",
    "app = Dash(__name__)\n",
    "app.title = \"Diabetes Dashboard\"\n",
    "\n",
    "app.layout = html.Div([\n",
    "    html.H1(\"Dashboard de Diabetes\", style={\"textAlign\": \"center\"}),\n",
    "    dcc.Dropdown(\n",
    "        id=\"feature\",\n",
    "        options=[{\"label\": col, \"value\": col} for col in df.columns if df[col].dtype != \"object\"],\n",
    "        value=\"Age\"\n",
    "    ),\n",
    "    dcc.Graph(id=\"hist\")\n",
    "])\n",
    "\n",
    "@app.callback(\n",
    "    Output(\"hist\", \"figure\"),\n",
    "    Input(\"feature\", \"value\")\n",
    ")\n",
    "def update_histogram(selected_feature):\n",
    "    fig = {\n",
    "        \"data\": [{\"x\": df[selected_feature], \"type\": \"histogram\"}],\n",
    "        \"layout\": {\"title\": f\"Distribuição de {selected_feature}\"}\n",
    "    }\n",
    "    return fig\n"
   ]
  },
  {
   "cell_type": "code",
   "execution_count": null,
   "id": "99f81510",
   "metadata": {},
   "outputs": [],
   "source": [
    "# Expor com ngrok\n",
    "port = 8050\n",
    "public_url = ngrok.connect(port)\n",
    "print(f\"🔗 Acesse o dashboard aqui: {public_url}\")\n",
    "\n",
    "# Rodar servidor\n",
    "app.run_server(port=port)\n"
   ]
  }
 ],
 "metadata": {},
 "nbformat": 4,
 "nbformat_minor": 5
}
